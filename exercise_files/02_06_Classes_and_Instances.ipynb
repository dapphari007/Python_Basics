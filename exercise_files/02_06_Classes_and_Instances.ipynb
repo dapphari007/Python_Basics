{
 "cells": [
  {
   "cell_type": "markdown",
   "id": "7e7cecd6",
   "metadata": {},
   "source": [
    "## Classes"
   ]
  },
  {
   "cell_type": "code",
   "execution_count": 37,
   "id": "d5cde69b",
   "metadata": {},
   "outputs": [],
   "source": [
    "class Anime:\n",
    "\n",
    "    def __init__(self, Anime):\n",
    "        self.Anime=Anime\n",
    "        self.Award=4\n",
    "\n",
    "    def Trend(self):\n",
    "        print(self.Anime +'Anime'+'  Award =',self.Award)\n",
    "        \n",
    "        \n"
   ]
  },
  {
   "cell_type": "code",
   "execution_count": 38,
   "id": "5b3dde35",
   "metadata": {},
   "outputs": [],
   "source": [
    "First=Anime('Onepiece')\n",
    "Second=Anime('Naruto')\n"
   ]
  },
  {
   "cell_type": "code",
   "execution_count": 39,
   "id": "ceed1af6",
   "metadata": {},
   "outputs": [
    {
     "name": "stdout",
     "output_type": "stream",
     "text": [
      "OnepieceAnime  Award = 4\n"
     ]
    }
   ],
   "source": [
    "First.Trend()"
   ]
  },
  {
   "cell_type": "code",
   "execution_count": 40,
   "id": "b85ea67b",
   "metadata": {},
   "outputs": [
    {
     "name": "stdout",
     "output_type": "stream",
     "text": [
      "NarutoAnime  Award = 4\n"
     ]
    }
   ],
   "source": [
    "Second.Trend()"
   ]
  },
  {
   "cell_type": "code",
   "execution_count": null,
   "id": "5d1838eb",
   "metadata": {},
   "outputs": [],
   "source": []
  }
 ],
 "metadata": {
  "kernelspec": {
   "display_name": "Python 3 (ipykernel)",
   "language": "python",
   "name": "python3"
  },
  "language_info": {
   "codemirror_mode": {
    "name": "ipython",
    "version": 3
   },
   "file_extension": ".py",
   "mimetype": "text/x-python",
   "name": "python",
   "nbconvert_exporter": "python",
   "pygments_lexer": "ipython3",
   "version": "3.12.4"
  }
 },
 "nbformat": 4,
 "nbformat_minor": 5
}
